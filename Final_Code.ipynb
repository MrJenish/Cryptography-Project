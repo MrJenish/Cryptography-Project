{
 "cells": [
  {
   "cell_type": "code",
   "execution_count": 3,
   "metadata": {},
   "outputs": [
    {
     "name": "stdout",
     "output_type": "stream",
     "text": [
      "Collecting opencv-python\n",
      "  Using cached opencv_python-4.7.0.72-cp37-abi3-win_amd64.whl (38.2 MB)\n",
      "Requirement already satisfied: numpy>=1.17.3 in c:\\users\\dell\\anaconda3\\lib\\site-packages (from opencv-python) (1.20.1)\n",
      "Installing collected packages: opencv-python\n",
      "Successfully installed opencv-python-4.7.0.72\n",
      "Note: you may need to restart the kernel to use updated packages.\n"
     ]
    }
   ],
   "source": [
    "pip install opencv-python"
   ]
  },
  {
   "cell_type": "code",
   "execution_count": 5,
   "metadata": {
    "id": "807n_B_d3YYB"
   },
   "outputs": [],
   "source": [
    "import cv2\n",
    "import random \n",
    "import numpy as np"
   ]
  },
  {
   "cell_type": "code",
   "execution_count": 6,
   "metadata": {
    "id": "L3ExWztH3p0S"
   },
   "outputs": [],
   "source": [
    "# Take the image path\n",
    "# image_path = \"/content/Screenshot (662).png\"\n",
    "image_path = \"id.jpg\""
   ]
  },
  {
   "cell_type": "code",
   "execution_count": 7,
   "metadata": {
    "colab": {
     "base_uri": "https://localhost:8080/"
    },
    "id": "3nFPlyHr3-Np",
    "outputId": "05657b3f-7989-41d1-b487-6daacf415189"
   },
   "outputs": [
    {
     "name": "stdout",
     "output_type": "stream",
     "text": [
      "id.jpg\n"
     ]
    }
   ],
   "source": [
    "print(image_path)"
   ]
  },
  {
   "cell_type": "code",
   "execution_count": 8,
   "metadata": {
    "id": "9ppdLMTp3_8_"
   },
   "outputs": [],
   "source": [
    "image = cv2.imread(image_path)"
   ]
  },
  {
   "cell_type": "code",
   "execution_count": 9,
   "metadata": {
    "colab": {
     "base_uri": "https://localhost:8080/"
    },
    "id": "nMVDUveV4BaC",
    "outputId": "e3766db6-edd0-4349-d5b8-241aca2f0df2"
   },
   "outputs": [
    {
     "name": "stdout",
     "output_type": "stream",
     "text": [
      "[[[129 169 174]\n",
      "  [127 167 172]\n",
      "  [127 167 172]\n",
      "  ...\n",
      "  [162 200 212]\n",
      "  [163 201 213]\n",
      "  [163 201 213]]\n",
      "\n",
      " [[130 169 178]\n",
      "  [130 169 178]\n",
      "  [129 168 177]\n",
      "  ...\n",
      "  [161 198 212]\n",
      "  [162 199 213]\n",
      "  [163 200 214]]\n",
      "\n",
      " [[128 162 185]\n",
      "  [129 163 186]\n",
      "  [129 163 186]\n",
      "  ...\n",
      "  [161 197 215]\n",
      "  [162 198 216]\n",
      "  [163 199 217]]\n",
      "\n",
      " ...\n",
      "\n",
      " [[161 189 200]\n",
      "  [164 192 203]\n",
      "  [164 192 203]\n",
      "  ...\n",
      "  [191 219 230]\n",
      "  [191 219 230]\n",
      "  [192 220 231]]\n",
      "\n",
      " [[165 192 202]\n",
      "  [164 191 201]\n",
      "  [161 188 198]\n",
      "  ...\n",
      "  [191 219 230]\n",
      "  [191 219 230]\n",
      "  [191 219 230]]\n",
      "\n",
      " [[163 191 198]\n",
      "  [161 189 196]\n",
      "  [160 188 195]\n",
      "  ...\n",
      "  [190 218 229]\n",
      "  [190 218 229]\n",
      "  [191 219 230]]]\n"
     ]
    }
   ],
   "source": [
    "print(image)"
   ]
  },
  {
   "cell_type": "code",
   "execution_count": 11,
   "metadata": {
    "colab": {
     "base_uri": "https://localhost:8080/",
     "height": 1000
    },
    "id": "HveUiiep4WLS",
    "outputId": "dbc8e895-6f49-4c92-ce67-ccdd078766a9"
   },
   "outputs": [
    {
     "ename": "error",
     "evalue": "OpenCV(4.7.0) :-1: error: (-5:Bad argument) in function 'imshow'\n> Overload resolution failed:\n>  - imshow() missing required argument 'mat' (pos 2)\n>  - imshow() missing required argument 'mat' (pos 2)\n>  - imshow() missing required argument 'mat' (pos 2)\n",
     "output_type": "error",
     "traceback": [
      "\u001b[1;31m---------------------------------------------------------------------------\u001b[0m",
      "\u001b[1;31merror\u001b[0m                                     Traceback (most recent call last)",
      "\u001b[1;32m<ipython-input-11-fe78145cf5c8>\u001b[0m in \u001b[0;36m<module>\u001b[1;34m\u001b[0m\n\u001b[0;32m      1\u001b[0m \u001b[1;31m# Display the image\u001b[0m\u001b[1;33m\u001b[0m\u001b[1;33m\u001b[0m\u001b[1;33m\u001b[0m\u001b[0m\n\u001b[1;32m----> 2\u001b[1;33m \u001b[0mcv2\u001b[0m\u001b[1;33m.\u001b[0m\u001b[0mimshow\u001b[0m\u001b[1;33m(\u001b[0m\u001b[0mimage\u001b[0m\u001b[1;33m)\u001b[0m\u001b[1;33m\u001b[0m\u001b[1;33m\u001b[0m\u001b[0m\n\u001b[0m",
      "\u001b[1;31merror\u001b[0m: OpenCV(4.7.0) :-1: error: (-5:Bad argument) in function 'imshow'\n> Overload resolution failed:\n>  - imshow() missing required argument 'mat' (pos 2)\n>  - imshow() missing required argument 'mat' (pos 2)\n>  - imshow() missing required argument 'mat' (pos 2)\n"
     ]
    }
   ],
   "source": [
    "# Display the image\n",
    "cv2.imshow(image)"
   ]
  },
  {
   "cell_type": "code",
   "execution_count": 7,
   "metadata": {
    "id": "mvZb-pH-4CsR"
   },
   "outputs": [],
   "source": [
    "# Convert each pixel range from [0,255] to [0,1]\n",
    "image = image / 255.0"
   ]
  },
  {
   "cell_type": "code",
   "execution_count": 8,
   "metadata": {
    "colab": {
     "base_uri": "https://localhost:8080/"
    },
    "id": "CvAc8lFW4orx",
    "outputId": "08862576-3c8b-4d48-a067-d28ba3b1e480"
   },
   "outputs": [
    {
     "name": "stdout",
     "output_type": "stream",
     "text": [
      "(4000, 3000, 3)\n"
     ]
    }
   ],
   "source": [
    "# print the dimension of the image\n",
    "dimension = image.shape\n",
    "print(dimension)"
   ]
  },
  {
   "cell_type": "code",
   "execution_count": 9,
   "metadata": {
    "colab": {
     "base_uri": "https://localhost:8080/"
    },
    "id": "V5PmH6bz4ouv",
    "outputId": "2a2d2686-7d1f-44c7-ca37-921355bb94ad"
   },
   "outputs": [
    {
     "name": "stdout",
     "output_type": "stream",
     "text": [
      "float64\n",
      "<class 'numpy.ndarray'>\n"
     ]
    }
   ],
   "source": [
    "# Print the data type of the image\n",
    "print(image.dtype)\n",
    "print(type(image))"
   ]
  },
  {
   "cell_type": "code",
   "execution_count": null,
   "metadata": {
    "id": "zNLQvQXg4FVQ"
   },
   "outputs": [],
   "source": [
    "# Generate the keys for the image encryption\n",
    "mu, sigma = 0, 0.1  # mean and standard deviation\n",
    "keys = []\n",
    "for i in range(100):\n",
    "  key = np.random.normal(mu, sigma, (dimension[0],dimension[1],dimension[2])) + np.finfo(float).eps\n",
    "  keys.append(key)"
   ]
  },
  {
   "cell_type": "code",
   "execution_count": null,
   "metadata": {
    "id": "_pn3tK3a5AKF"
   },
   "outputs": [],
   "source": [
    "print(len(keys))"
   ]
  },
  {
   "cell_type": "code",
   "execution_count": null,
   "metadata": {
    "id": "yrMqy0FW55ob"
   },
   "outputs": [],
   "source": [
    "print(keys[0])"
   ]
  },
  {
   "cell_type": "code",
   "execution_count": null,
   "metadata": {
    "id": "uof12yiJ57qK"
   },
   "outputs": [],
   "source": [
    "last_key = np.random.randint(0, pow(2, 8)-1, size = dimension, dtype=int)"
   ]
  },
  {
   "cell_type": "code",
   "execution_count": null,
   "metadata": {
    "id": "zM_fNRVe6EJ6"
   },
   "outputs": [],
   "source": [
    "print(last_key)"
   ]
  },
  {
   "cell_type": "code",
   "execution_count": null,
   "metadata": {
    "id": "u48rPRfy6F-q"
   },
   "outputs": [],
   "source": [
    "# Encryption of the image\n",
    "encrypted_image = image\n",
    "for i in range(100):\n",
    "  encrypted_image = encrypted_image/keys[i]"
   ]
  },
  {
   "cell_type": "code",
   "execution_count": null,
   "metadata": {
    "id": "k1KMwRhK6R9d"
   },
   "outputs": [],
   "source": [
    "# Apply the last key on the image\n",
    "for i in range(dimension[0]):\n",
    "  for j in range(dimension[1]):\n",
    "\n",
    "    encrypted_image[i][j][0] = encrypted_image[i][j][0] + last_key[i][j][0]\n",
    "    if(encrypted_image[i][j][0] > 255):\n",
    "      encrypted_image[i][j][0] = encrypted_image[i][j][0] - 255 \n",
    "\n",
    "    encrypted_image[i][j][1] = encrypted_image[i][j][1] + last_key[i][j][1]\n",
    "    if(encrypted_image[i][j][1] > 255):\n",
    "      encrypted_image[i][j][1] = encrypted_image[i][j][1] - 255 \n",
    "\n",
    "    encrypted_image[i][j][2] = encrypted_image[i][j][2] + last_key[i][j][2]\n",
    "    if(encrypted_image[i][j][2] > 255):\n",
    "      encrypted_image[i][j][2] = encrypted_image[i][j][2] - 255\n"
   ]
  },
  {
   "cell_type": "code",
   "execution_count": null,
   "metadata": {
    "id": "avBYeBTF7TGi"
   },
   "outputs": [],
   "source": [
    "# Print the encrypted image\n",
    "cv2_imshow(encrypted_image)"
   ]
  },
  {
   "cell_type": "code",
   "execution_count": null,
   "metadata": {
    "id": "PQdjGc8s69fD"
   },
   "outputs": [],
   "source": [
    "# decryption of the image\n",
    "decrypted_image = encrypted_image\n",
    "for i in range(dimension[0]):\n",
    "  for j in range(dimension[1]):\n",
    "\n",
    "    decrypted_image[i][j][0] = decrypted_image[i][j][0] - last_key[i][j][0]\n",
    "    if(decrypted_image[i][j][0] < 0 ):\n",
    "      decrypted_image[i][j][0] = decrypted_image[i][j][0] + 255 \n",
    "\n",
    "    decrypted_image[i][j][1] = decrypted_image[i][j][1] - last_key[i][j][1]\n",
    "    if(decrypted_image[i][j][1] < 0 ):\n",
    "      decrypted_image[i][j][1] = decrypted_image[i][j][1] + 255\n",
    "\n",
    "    decrypted_image[i][j][2] = decrypted_image[i][j][2] - last_key[i][j][2]\n",
    "    if(decrypted_image[i][j][2] < 0 ):\n",
    "      decrypted_image[i][j][2] = decrypted_image[i][j][2] + 255"
   ]
  },
  {
   "cell_type": "code",
   "execution_count": null,
   "metadata": {
    "id": "GdIPI0c770d1"
   },
   "outputs": [],
   "source": [
    "for i in reversed(range(100)):\n",
    "  decrypted_image = decrypted_image*keys[i]"
   ]
  },
  {
   "cell_type": "code",
   "execution_count": null,
   "metadata": {
    "id": "Acuvpch577Dx"
   },
   "outputs": [],
   "source": [
    "# Convert each pixel range from [0,1] to [0,255]  \n",
    "decrypted_image = decrypted_image*255.0"
   ]
  },
  {
   "cell_type": "code",
   "execution_count": null,
   "metadata": {
    "id": "0TP481158Po2"
   },
   "outputs": [],
   "source": [
    "# Print the decrypted_image\n",
    "cv2_imshow(decrypted_image)"
   ]
  },
  {
   "cell_type": "code",
   "execution_count": null,
   "metadata": {
    "id": "36RggxiO8RkO"
   },
   "outputs": [],
   "source": [
    "# Comparision between original image and decrypted image\n",
    "if(decrypted_image.all() == image.all()):\n",
    "  print(\"success\")"
   ]
  }
 ],
 "metadata": {
  "colab": {
   "provenance": []
  },
  "kernelspec": {
   "display_name": "Python 3",
   "language": "python",
   "name": "python3"
  },
  "language_info": {
   "codemirror_mode": {
    "name": "ipython",
    "version": 3
   },
   "file_extension": ".py",
   "mimetype": "text/x-python",
   "name": "python",
   "nbconvert_exporter": "python",
   "pygments_lexer": "ipython3",
   "version": "3.8.8"
  }
 },
 "nbformat": 4,
 "nbformat_minor": 1
}
